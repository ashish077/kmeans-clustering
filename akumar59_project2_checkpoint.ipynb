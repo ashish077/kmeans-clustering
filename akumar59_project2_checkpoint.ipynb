{
  "nbformat": 4,
  "nbformat_minor": 0,
  "metadata": {
    "colab": {
      "name": "akumar59_project2_checkpoint.ipynb",
      "provenance": [],
      "collapsed_sections": [],
      "toc_visible": true
    },
    "kernelspec": {
      "name": "python3",
      "display_name": "Python 3"
    },
    "language_info": {
      "name": "python"
    }
  },
  "cells": [
    {
      "cell_type": "markdown",
      "metadata": {
        "id": "uFJNVa74PrOh"
      },
      "source": [
        "                                           **K-means Clustering** \n",
        "\n",
        "---\n",
        "\n"
      ]
    },
    {
      "cell_type": "markdown",
      "metadata": {
        "id": "iFg8ji1Jiy4Z"
      },
      "source": [
        "# Part 1"
      ]
    },
    {
      "cell_type": "code",
      "metadata": {
        "id": "wrDmuncqPike",
        "colab": {
          "base_uri": "https://localhost:8080/"
        },
        "outputId": "d912e88b-4688-40af-d301-336aecf754f5"
      },
      "source": [
        "import pandas as pd\n",
        "import numpy as np\n",
        "import matplotlib.pyplot as plt\n",
        "import seaborn as sns \n",
        "import cv2\n",
        "\n",
        "%matplotlib inline\n",
        "\n",
        "from sklearn.preprocessing import MinMaxScaler\n",
        "\n",
        "from google.colab.patches import cv2_imshow\n",
        "from keras.datasets import cifar10\n",
        "from sklearn.metrics import silhouette_score\n",
        "! pip install validclust\n",
        "from validclust import dunn\n",
        "from sklearn.metrics import pairwise_distances\n"
      ],
      "execution_count": null,
      "outputs": [
        {
          "output_type": "stream",
          "name": "stdout",
          "text": [
            "Collecting validclust\n",
            "  Downloading validclust-0.1.1-py2.py3-none-any.whl (8.1 kB)\n",
            "Requirement already satisfied: numpy>=1.16.5 in /usr/local/lib/python3.7/dist-packages (from validclust) (1.19.5)\n",
            "Requirement already satisfied: matplotlib in /usr/local/lib/python3.7/dist-packages (from validclust) (3.2.2)\n",
            "Requirement already satisfied: seaborn in /usr/local/lib/python3.7/dist-packages (from validclust) (0.11.2)\n",
            "Requirement already satisfied: pandas in /usr/local/lib/python3.7/dist-packages (from validclust) (1.1.5)\n",
            "Requirement already satisfied: packaging in /usr/local/lib/python3.7/dist-packages (from validclust) (21.2)\n",
            "Requirement already satisfied: scikit-learn in /usr/local/lib/python3.7/dist-packages (from validclust) (0.22.2.post1)\n",
            "Requirement already satisfied: python-dateutil>=2.1 in /usr/local/lib/python3.7/dist-packages (from matplotlib->validclust) (2.8.2)\n",
            "Requirement already satisfied: pyparsing!=2.0.4,!=2.1.2,!=2.1.6,>=2.0.1 in /usr/local/lib/python3.7/dist-packages (from matplotlib->validclust) (2.4.7)\n",
            "Requirement already satisfied: kiwisolver>=1.0.1 in /usr/local/lib/python3.7/dist-packages (from matplotlib->validclust) (1.3.2)\n",
            "Requirement already satisfied: cycler>=0.10 in /usr/local/lib/python3.7/dist-packages (from matplotlib->validclust) (0.11.0)\n",
            "Requirement already satisfied: six>=1.5 in /usr/local/lib/python3.7/dist-packages (from python-dateutil>=2.1->matplotlib->validclust) (1.15.0)\n",
            "Requirement already satisfied: pytz>=2017.2 in /usr/local/lib/python3.7/dist-packages (from pandas->validclust) (2018.9)\n",
            "Requirement already satisfied: scipy>=0.17.0 in /usr/local/lib/python3.7/dist-packages (from scikit-learn->validclust) (1.4.1)\n",
            "Requirement already satisfied: joblib>=0.11 in /usr/local/lib/python3.7/dist-packages (from scikit-learn->validclust) (1.1.0)\n",
            "Installing collected packages: validclust\n",
            "Successfully installed validclust-0.1.1\n"
          ]
        }
      ]
    },
    {
      "cell_type": "code",
      "metadata": {
        "id": "PysIyvoJqYyf"
      },
      "source": [
        "# Load cifar-10 data-set\n",
        "\n",
        "(trainX, trainy), (testX, testy) = cifar10.load_data()"
      ],
      "execution_count": null,
      "outputs": []
    },
    {
      "cell_type": "code",
      "metadata": {
        "id": "XvhMNTCKVvLr"
      },
      "source": [
        "#Convert the images to grayscale using cv2.\n",
        "#Normalize the images.\n",
        "#Reshape the images from (10000,32,32) to (10000,1024).\n",
        "\n",
        "\n",
        "\n",
        "# transform data\n",
        "\n",
        "testX= np.array([cv2.cvtColor(image,cv2.COLOR_BGR2GRAY) for image in testX])\n",
        "\n",
        "testX=testX/255\n",
        "\n",
        "\n",
        "\n",
        "\n"
      ],
      "execution_count": null,
      "outputs": []
    },
    {
      "cell_type": "code",
      "metadata": {
        "id": "OYUAHZNOG9Mv"
      },
      "source": [
        "#Kmeans Clustering algorithm\n",
        "\n",
        "# Step perfromed in the algorithm:-\n",
        "\"\"\"\n",
        "1) take ramdom points from the data of length equal to the no of clusters as the initial centroids of the clusters\n",
        "2)find the closest centroid for each point and asign it to them\n",
        "3) take the mean as each cluster as the new centroid \n",
        "4) repeat step 2 and 3 until the difference between new and old centroid is equal to zero or epochs complete\n",
        "\"\"\"\n",
        "#function for euclidean distance between two data points \n",
        "def euclidean_distance(d1, d2):\n",
        "    return np.sqrt(np.sum((d1 - d2) ** 2))\n",
        "\n",
        "\n",
        "class KmeansClustering:\n",
        "    def __init__(self, no_of_cluster, epochs):\n",
        "        self.no_of_cluster = no_of_cluster\n",
        "        self.epochs = epochs\n",
        "        \n",
        "        # points in a  cluster\n",
        "        self.clusters=[]\n",
        "        for _ in range(self.no_of_cluster):\n",
        "          self.clusters.append([]) \n",
        "        # Cluster Centers\n",
        "        self.centroids = []\n",
        "\n",
        "    def predict(self, X):\n",
        "        self.X = X\n",
        "        self.no_of_points, self.no_of_features = X.shape\n",
        "\n",
        "        # initializing cluster centroids randomly\n",
        "        random_points = np.random.choice(self.no_of_points, self.no_of_cluster, replace=False)\n",
        "        for i in random_points:\n",
        "          self.centroids.append(self.X[i]) \n",
        "\n",
        "        # creating clusters by asigning point closest to the cluster centroid to that clustser\n",
        "        for _ in range(self.epochs):\n",
        "            \n",
        "            self.clusters = self.cluster_create(self.centroids)\n",
        "           \n",
        "            # update centorids from the clusters\n",
        "            old_centroids = self.centroids\n",
        "            # update centroids to mean of the points in the cluster\n",
        "            centroids = np.zeros((self.no_of_cluster, self.no_of_features))\n",
        "            for i, cluster in enumerate(self.clusters):\n",
        "              new_centroid = np.mean(self.X[cluster], axis=0)\n",
        "              centroids[i] = new_centroid\n",
        "            self.centroids=centroids\n",
        "             \n",
        "            # check if clusters have changed(old-centroid=new-centroid)\n",
        "            distances = []\n",
        "            for i in range(self.no_of_cluster):\n",
        "              distances.append(euclidean_distance(old_centroids[i], self.centroids[i])) \n",
        "        \n",
        "       \n",
        "    \n",
        "            if sum(distances)==0:\n",
        "              print(\"Cluster centroids have converged\")\n",
        "              break\n",
        "          \n",
        "        # Classify samples as the index of their clusters\n",
        "        labels = np.empty(self.no_of_points)\n",
        "\n",
        "        for i, cluster in enumerate(self.clusters):\n",
        "            for j in cluster:\n",
        "                labels[j] = i\n",
        "        return labels\n",
        "\n",
        "\n",
        "\n",
        "    def cluster_create(self, centroids):\n",
        "        # Assign points to the closest centroid\n",
        "        clusters=[]\n",
        "        for _ in range(self.no_of_cluster):\n",
        "          clusters.append([])\n",
        "        \n",
        "        for i, point in enumerate(self.X):\n",
        "          distances=[]\n",
        "          for centroid in centroids:\n",
        "            distances.append(euclidean_distance(point, centroid)) \n",
        "          closest_index = np.argmin(distances)\n",
        "          clusters[closest_index].append(i)\n",
        "        return clusters\n",
        "    \n",
        "\n",
        "\n",
        "\n"
      ],
      "execution_count": null,
      "outputs": []
    },
    {
      "cell_type": "code",
      "metadata": {
        "id": "vELdOSGVoq0r"
      },
      "source": [
        "model=KmeansClustering(no_of_cluster=10,epochs=100)\n"
      ],
      "execution_count": null,
      "outputs": []
    },
    {
      "cell_type": "code",
      "metadata": {
        "colab": {
          "base_uri": "https://localhost:8080/"
        },
        "id": "oRGh6Q-ypa7S",
        "outputId": "457b6489-256d-44c6-953e-8260a137512d"
      },
      "source": [
        "labels=model.predict(testX)"
      ],
      "execution_count": null,
      "outputs": [
        {
          "output_type": "stream",
          "name": "stdout",
          "text": [
            "Cluster centroids have converged\n"
          ]
        }
      ]
    },
    {
      "cell_type": "code",
      "metadata": {
        "colab": {
          "base_uri": "https://localhost:8080/"
        },
        "id": "ZKLFaKHgqBXR",
        "outputId": "b981cb48-f52c-443a-9e7f-47cee97c7ab4"
      },
      "source": [
        "# perform ASC and dunn score analysis\n",
        "\n",
        "dist= pairwise_distances(testX)\n",
        "print(\"Dunn score is: \",dunn(dist,labels))\n",
        "print(\"ASC score is: \",silhouette_score(testX,labels))"
      ],
      "execution_count": null,
      "outputs": [
        {
          "output_type": "stream",
          "name": "stdout",
          "text": [
            "Dunn score is:  0.0902795391612921\n",
            "ASC score is:  0.05360154438360176\n"
          ]
        }
      ]
    },
    {
      "cell_type": "markdown",
      "metadata": {
        "id": "rBVhtnYZi7IQ"
      },
      "source": [
        "# Part 2"
      ]
    },
    {
      "cell_type": "markdown",
      "metadata": {
        "id": "qKgexsfOacvJ"
      },
      "source": [
        "Steps followed:\n",
        "\n",
        "1. use autoencoders to fit data\n",
        "2. use the encoder part to generate a sparse dataset\n",
        "3. use k-means to generate the labels on the sparse dataset and perform asc to "
      ]
    },
    {
      "cell_type": "code",
      "metadata": {
        "id": "FIWXLiQtjLMh"
      },
      "source": [
        "#loading libraries\n",
        "\n",
        "import pandas as pd\n",
        "import numpy as np\n",
        "import matplotlib.pyplot as plt\n",
        "import cv2\n",
        "\n",
        "%matplotlib inline\n",
        "\n",
        "from tensorflow import keras\n",
        "from sklearn.metrics import silhouette_score\n",
        "\n",
        "from keras.layers import Dense, Input\n",
        "from tensorflow.keras.optimizers import  Adam\n",
        "from keras.models import Model\n",
        "from keras.datasets import cifar10\n",
        "\n"
      ],
      "execution_count": null,
      "outputs": []
    },
    {
      "cell_type": "code",
      "metadata": {
        "id": "QfM5enhAjLIq"
      },
      "source": [
        ""
      ],
      "execution_count": null,
      "outputs": []
    },
    {
      "cell_type": "code",
      "metadata": {
        "id": "yR0VKAiljKuU"
      },
      "source": [
        "#loading cifar-10 dataset\n",
        "(train_x,train_y),(test_x,test_y)= cifar10.load_data()"
      ],
      "execution_count": null,
      "outputs": []
    },
    {
      "cell_type": "code",
      "metadata": {
        "colab": {
          "base_uri": "https://localhost:8080/"
        },
        "id": "RO9_SXHPjkFr",
        "outputId": "5765511e-21a4-47c9-d195-959db73b61ca"
      },
      "source": [
        "# transform data\n",
        "\n",
        "train_x= np.array([cv2.cvtColor(image,cv2.COLOR_BGR2GRAY) for image in train_x])\n",
        "train_x = train_x.astype('float32') / 255.\n",
        "train_x = train_x.reshape(50000, 1024)\n",
        "\n",
        "print(train_x.shape)"
      ],
      "execution_count": null,
      "outputs": [
        {
          "output_type": "stream",
          "name": "stdout",
          "text": [
            "(50000, 1024)\n"
          ]
        }
      ]
    },
    {
      "cell_type": "code",
      "metadata": {
        "id": "n2R1bG-J-4WZ"
      },
      "source": [
        "#encoder \n",
        "input_img = keras.Input(shape=(1024,))\n",
        "encoded = Dense(128, activation='relu')(input_img)\n",
        "encoded = Dense(64, activation='relu')(encoded)\n",
        "\n",
        "#decoder\n",
        "decoded = Dense(64, activation='relu')(encoded)\n",
        "decoded = Dense(128, activation='relu')(decoded)\n",
        "decoded = Dense(1024, activation='sigmoid')(decoded)"
      ],
      "execution_count": null,
      "outputs": []
    },
    {
      "cell_type": "code",
      "metadata": {
        "id": "cDX4Bx9h_iyD"
      },
      "source": [
        "#autoencoder model\n",
        "autoencoder = keras.Model(input_img, decoded)\n",
        "\n",
        "#encoder model\n",
        "encoder = Model(input_img, encoded)\n"
      ],
      "execution_count": null,
      "outputs": []
    },
    {
      "cell_type": "code",
      "metadata": {
        "id": "uTvtQKPmAL_z",
        "colab": {
          "base_uri": "https://localhost:8080/"
        },
        "outputId": "1a5d37bc-1658-4d65-ec86-32928f5da047"
      },
      "source": [
        "autoencoder.compile(optimizer='adam', loss='binary_crossentropy')\n",
        "\n",
        "#fitting autoencoder\n",
        "autoencoder.fit(train_x, train_x,\n",
        "                epochs=100,\n",
        "                batch_size=128,\n",
        "                shuffle=True,\n",
        "                )\n",
        "\n",
        "sparse_x = encoder.predict(train_x)\n",
        "\n"
      ],
      "execution_count": null,
      "outputs": [
        {
          "output_type": "stream",
          "name": "stdout",
          "text": [
            "Epoch 1/100\n",
            "391/391 [==============================] - 6s 13ms/step - loss: 0.6268\n",
            "Epoch 2/100\n",
            "391/391 [==============================] - 5s 13ms/step - loss: 0.6022\n",
            "Epoch 3/100\n",
            "391/391 [==============================] - 5s 13ms/step - loss: 0.5972\n",
            "Epoch 4/100\n",
            "391/391 [==============================] - 5s 13ms/step - loss: 0.5955\n",
            "Epoch 5/100\n",
            "391/391 [==============================] - 5s 13ms/step - loss: 0.5941\n",
            "Epoch 6/100\n",
            "391/391 [==============================] - 5s 13ms/step - loss: 0.5925\n",
            "Epoch 7/100\n",
            "391/391 [==============================] - 5s 13ms/step - loss: 0.5916\n",
            "Epoch 8/100\n",
            "391/391 [==============================] - 5s 13ms/step - loss: 0.5908\n",
            "Epoch 9/100\n",
            "391/391 [==============================] - 5s 13ms/step - loss: 0.5899\n",
            "Epoch 10/100\n",
            "391/391 [==============================] - 5s 13ms/step - loss: 0.5892\n",
            "Epoch 11/100\n",
            "391/391 [==============================] - 5s 13ms/step - loss: 0.5888\n",
            "Epoch 12/100\n",
            "391/391 [==============================] - 5s 13ms/step - loss: 0.5882\n",
            "Epoch 13/100\n",
            "391/391 [==============================] - 5s 13ms/step - loss: 0.5876\n",
            "Epoch 14/100\n",
            "391/391 [==============================] - 5s 13ms/step - loss: 0.5872\n",
            "Epoch 15/100\n",
            "391/391 [==============================] - 5s 13ms/step - loss: 0.5868\n",
            "Epoch 16/100\n",
            "391/391 [==============================] - 5s 13ms/step - loss: 0.5864\n",
            "Epoch 17/100\n",
            "391/391 [==============================] - 5s 13ms/step - loss: 0.5861\n",
            "Epoch 18/100\n",
            "391/391 [==============================] - 5s 13ms/step - loss: 0.5858\n",
            "Epoch 19/100\n",
            "391/391 [==============================] - 5s 13ms/step - loss: 0.5857\n",
            "Epoch 20/100\n",
            "391/391 [==============================] - 5s 13ms/step - loss: 0.5856\n",
            "Epoch 21/100\n",
            "391/391 [==============================] - 5s 13ms/step - loss: 0.5854\n",
            "Epoch 22/100\n",
            "391/391 [==============================] - 5s 13ms/step - loss: 0.5851\n",
            "Epoch 23/100\n",
            "391/391 [==============================] - 5s 13ms/step - loss: 0.5849\n",
            "Epoch 24/100\n",
            "391/391 [==============================] - 5s 13ms/step - loss: 0.5848\n",
            "Epoch 25/100\n",
            "391/391 [==============================] - 5s 13ms/step - loss: 0.5847\n",
            "Epoch 26/100\n",
            "391/391 [==============================] - 5s 13ms/step - loss: 0.5847\n",
            "Epoch 27/100\n",
            "391/391 [==============================] - 5s 13ms/step - loss: 0.5846\n",
            "Epoch 28/100\n",
            "391/391 [==============================] - 5s 13ms/step - loss: 0.5845\n",
            "Epoch 29/100\n",
            "391/391 [==============================] - 5s 13ms/step - loss: 0.5843\n",
            "Epoch 30/100\n",
            "391/391 [==============================] - 5s 13ms/step - loss: 0.5841\n",
            "Epoch 31/100\n",
            "391/391 [==============================] - 5s 13ms/step - loss: 0.5840\n",
            "Epoch 32/100\n",
            "391/391 [==============================] - 5s 13ms/step - loss: 0.5839\n",
            "Epoch 33/100\n",
            "391/391 [==============================] - 5s 13ms/step - loss: 0.5838\n",
            "Epoch 34/100\n",
            "391/391 [==============================] - 5s 13ms/step - loss: 0.5838\n",
            "Epoch 35/100\n",
            "391/391 [==============================] - 5s 13ms/step - loss: 0.5836\n",
            "Epoch 36/100\n",
            "391/391 [==============================] - 5s 13ms/step - loss: 0.5835\n",
            "Epoch 37/100\n",
            "391/391 [==============================] - 5s 13ms/step - loss: 0.5835\n",
            "Epoch 38/100\n",
            "391/391 [==============================] - 5s 13ms/step - loss: 0.5835\n",
            "Epoch 39/100\n",
            "391/391 [==============================] - 5s 13ms/step - loss: 0.5834\n",
            "Epoch 40/100\n",
            "391/391 [==============================] - 5s 13ms/step - loss: 0.5834\n",
            "Epoch 41/100\n",
            "391/391 [==============================] - 5s 13ms/step - loss: 0.5834\n",
            "Epoch 42/100\n",
            "391/391 [==============================] - 5s 13ms/step - loss: 0.5833\n",
            "Epoch 43/100\n",
            "391/391 [==============================] - 5s 13ms/step - loss: 0.5833\n",
            "Epoch 44/100\n",
            "391/391 [==============================] - 5s 13ms/step - loss: 0.5831\n",
            "Epoch 45/100\n",
            "391/391 [==============================] - 5s 13ms/step - loss: 0.5831\n",
            "Epoch 46/100\n",
            "391/391 [==============================] - 5s 13ms/step - loss: 0.5830\n",
            "Epoch 47/100\n",
            "391/391 [==============================] - 5s 12ms/step - loss: 0.5830\n",
            "Epoch 48/100\n",
            "391/391 [==============================] - 5s 13ms/step - loss: 0.5830\n",
            "Epoch 49/100\n",
            "391/391 [==============================] - 5s 12ms/step - loss: 0.5829\n",
            "Epoch 50/100\n",
            "391/391 [==============================] - 5s 12ms/step - loss: 0.5828\n",
            "Epoch 51/100\n",
            "391/391 [==============================] - 5s 13ms/step - loss: 0.5828\n",
            "Epoch 52/100\n",
            "391/391 [==============================] - 5s 13ms/step - loss: 0.5827\n",
            "Epoch 53/100\n",
            "391/391 [==============================] - 5s 12ms/step - loss: 0.5827\n",
            "Epoch 54/100\n",
            "391/391 [==============================] - 5s 13ms/step - loss: 0.5827\n",
            "Epoch 55/100\n",
            "391/391 [==============================] - 5s 13ms/step - loss: 0.5827\n",
            "Epoch 56/100\n",
            "391/391 [==============================] - 5s 13ms/step - loss: 0.5827\n",
            "Epoch 57/100\n",
            "391/391 [==============================] - 5s 13ms/step - loss: 0.5826\n",
            "Epoch 58/100\n",
            "391/391 [==============================] - 5s 13ms/step - loss: 0.5826\n",
            "Epoch 59/100\n",
            "391/391 [==============================] - 5s 13ms/step - loss: 0.5826\n",
            "Epoch 60/100\n",
            "391/391 [==============================] - 5s 13ms/step - loss: 0.5825\n",
            "Epoch 61/100\n",
            "391/391 [==============================] - 5s 13ms/step - loss: 0.5825\n",
            "Epoch 62/100\n",
            "391/391 [==============================] - 5s 12ms/step - loss: 0.5824\n",
            "Epoch 63/100\n",
            "391/391 [==============================] - 5s 13ms/step - loss: 0.5824\n",
            "Epoch 64/100\n",
            "391/391 [==============================] - 5s 12ms/step - loss: 0.5823\n",
            "Epoch 65/100\n",
            "391/391 [==============================] - 5s 13ms/step - loss: 0.5823\n",
            "Epoch 66/100\n",
            "391/391 [==============================] - 5s 12ms/step - loss: 0.5823\n",
            "Epoch 67/100\n",
            "391/391 [==============================] - 5s 12ms/step - loss: 0.5823\n",
            "Epoch 68/100\n",
            "391/391 [==============================] - 5s 12ms/step - loss: 0.5823\n",
            "Epoch 69/100\n",
            "391/391 [==============================] - 5s 12ms/step - loss: 0.5823\n",
            "Epoch 70/100\n",
            "391/391 [==============================] - 5s 12ms/step - loss: 0.5823\n",
            "Epoch 71/100\n",
            "391/391 [==============================] - 5s 12ms/step - loss: 0.5823\n",
            "Epoch 72/100\n",
            "391/391 [==============================] - 5s 12ms/step - loss: 0.5822\n",
            "Epoch 73/100\n",
            "391/391 [==============================] - 5s 12ms/step - loss: 0.5822\n",
            "Epoch 74/100\n",
            "391/391 [==============================] - 5s 12ms/step - loss: 0.5822\n",
            "Epoch 75/100\n",
            "391/391 [==============================] - 5s 12ms/step - loss: 0.5822\n",
            "Epoch 76/100\n",
            "391/391 [==============================] - 5s 12ms/step - loss: 0.5822\n",
            "Epoch 77/100\n",
            "391/391 [==============================] - 5s 12ms/step - loss: 0.5822\n",
            "Epoch 78/100\n",
            "391/391 [==============================] - 5s 12ms/step - loss: 0.5822\n",
            "Epoch 79/100\n",
            "391/391 [==============================] - 5s 12ms/step - loss: 0.5822\n",
            "Epoch 80/100\n",
            "391/391 [==============================] - 5s 12ms/step - loss: 0.5822\n",
            "Epoch 81/100\n",
            "391/391 [==============================] - 5s 12ms/step - loss: 0.5822\n",
            "Epoch 82/100\n",
            "391/391 [==============================] - 5s 12ms/step - loss: 0.5822\n",
            "Epoch 83/100\n",
            "391/391 [==============================] - 5s 12ms/step - loss: 0.5822\n",
            "Epoch 84/100\n",
            "391/391 [==============================] - 5s 12ms/step - loss: 0.5821\n",
            "Epoch 85/100\n",
            "391/391 [==============================] - 5s 12ms/step - loss: 0.5822\n",
            "Epoch 86/100\n",
            "391/391 [==============================] - 5s 12ms/step - loss: 0.5822\n",
            "Epoch 87/100\n",
            "391/391 [==============================] - 5s 12ms/step - loss: 0.5821\n",
            "Epoch 88/100\n",
            "391/391 [==============================] - 5s 12ms/step - loss: 0.5821\n",
            "Epoch 89/100\n",
            "391/391 [==============================] - 5s 12ms/step - loss: 0.5821\n",
            "Epoch 90/100\n",
            "391/391 [==============================] - 5s 12ms/step - loss: 0.5820\n",
            "Epoch 91/100\n",
            "391/391 [==============================] - 5s 12ms/step - loss: 0.5819\n",
            "Epoch 92/100\n",
            "391/391 [==============================] - 5s 12ms/step - loss: 0.5819\n",
            "Epoch 93/100\n",
            "391/391 [==============================] - 5s 12ms/step - loss: 0.5819\n",
            "Epoch 94/100\n",
            "391/391 [==============================] - 5s 12ms/step - loss: 0.5819\n",
            "Epoch 95/100\n",
            "391/391 [==============================] - 5s 12ms/step - loss: 0.5818\n",
            "Epoch 96/100\n",
            "391/391 [==============================] - 5s 12ms/step - loss: 0.5818\n",
            "Epoch 97/100\n",
            "391/391 [==============================] - 5s 12ms/step - loss: 0.5819\n",
            "Epoch 98/100\n",
            "391/391 [==============================] - 5s 13ms/step - loss: 0.5818\n",
            "Epoch 99/100\n",
            "391/391 [==============================] - 5s 13ms/step - loss: 0.5818\n",
            "Epoch 100/100\n",
            "391/391 [==============================] - 5s 13ms/step - loss: 0.5818\n"
          ]
        }
      ]
    },
    {
      "cell_type": "markdown",
      "metadata": {
        "id": "IJIQpxkZaExP"
      },
      "source": [
        "Performing K-Means on the sparse dataset recieeved"
      ]
    },
    {
      "cell_type": "code",
      "metadata": {
        "id": "XM_pohhPGjAK"
      },
      "source": [
        "from sklearn.cluster import KMeans"
      ],
      "execution_count": null,
      "outputs": []
    },
    {
      "cell_type": "code",
      "metadata": {
        "id": "HLFds4nxwWmG",
        "colab": {
          "base_uri": "https://localhost:8080/"
        },
        "outputId": "814d9a30-1a74-42a4-cc93-434c0ad4615a"
      },
      "source": [
        "#fitting kmeans on the sparse_x\n",
        "model = KMeans(n_clusters=10, n_init=1, max_iter=1)\n",
        "model.fit(sparse_x)\n"
      ],
      "execution_count": null,
      "outputs": [
        {
          "output_type": "execute_result",
          "data": {
            "text/plain": [
              "KMeans(algorithm='auto', copy_x=True, init='k-means++', max_iter=1,\n",
              "       n_clusters=10, n_init=1, n_jobs=None, precompute_distances='auto',\n",
              "       random_state=None, tol=0.0001, verbose=0)"
            ]
          },
          "metadata": {},
          "execution_count": 9
        }
      ]
    },
    {
      "cell_type": "code",
      "metadata": {
        "colab": {
          "base_uri": "https://localhost:8080/"
        },
        "id": "4mCoSmazHHcl",
        "outputId": "5158098b-dc19-4077-a2fb-59aad7efabd5"
      },
      "source": [
        "#Asc score of the learnt model\n",
        "print(\"ASC score is: \",silhouette_score(sparse_x,model.labels_))"
      ],
      "execution_count": null,
      "outputs": [
        {
          "output_type": "stream",
          "name": "stdout",
          "text": [
            "ASC score is:  0.06722549\n"
          ]
        }
      ]
    },
    {
      "cell_type": "code",
      "metadata": {
        "id": "l1CyycIALDBt"
      },
      "source": [
        "import cv2"
      ],
      "execution_count": null,
      "outputs": []
    },
    {
      "cell_type": "code",
      "metadata": {
        "colab": {
          "base_uri": "https://localhost:8080/",
          "height": 166
        },
        "id": "-m9vG_ZG_E5R",
        "outputId": "15e46405-7411-4e00-9268-e3e18ed68cce"
      },
      "source": [
        ""
      ],
      "execution_count": null,
      "outputs": [
        {
          "output_type": "error",
          "ename": "TypeError",
          "evalue": "ignored",
          "traceback": [
            "\u001b[0;31m---------------------------------------------------------------------------\u001b[0m",
            "\u001b[0;31mTypeError\u001b[0m                                 Traceback (most recent call last)",
            "\u001b[0;32m<ipython-input-32-779557004daa>\u001b[0m in \u001b[0;36m<module>\u001b[0;34m()\u001b[0m\n\u001b[0;32m----> 1\u001b[0;31m \u001b[0mtrain_x\u001b[0m\u001b[0;34m[\u001b[0m\u001b[0;36m0\u001b[0m\u001b[0;34m]\u001b[0m\u001b[0;34m.\u001b[0m\u001b[0mreshape\u001b[0m\u001b[0;34m(\u001b[0m\u001b[0;36m1\u001b[0m\u001b[0;34m,\u001b[0m\u001b[0;34m(\u001b[0m\u001b[0;36m32\u001b[0m\u001b[0;34m,\u001b[0m\u001b[0;36m32\u001b[0m\u001b[0;34m)\u001b[0m\u001b[0;34m)\u001b[0m\u001b[0;34m\u001b[0m\u001b[0;34m\u001b[0m\u001b[0m\n\u001b[0m",
            "\u001b[0;31mTypeError\u001b[0m: 'tuple' object cannot be interpreted as an integer"
          ]
        }
      ]
    },
    {
      "cell_type": "code",
      "metadata": {
        "id": "Xovp-IJ6_NR9"
      },
      "source": [
        ""
      ],
      "execution_count": null,
      "outputs": []
    },
    {
      "cell_type": "code",
      "metadata": {
        "colab": {
          "base_uri": "https://localhost:8080/"
        },
        "id": "BcQ0fxHL_lqI",
        "outputId": "d8e7630d-89f1-42ed-985a-b372a8464c35"
      },
      "source": [
        ""
      ],
      "execution_count": null,
      "outputs": [
        {
          "output_type": "execute_result",
          "data": {
            "text/plain": [
              "(1024,)"
            ]
          },
          "metadata": {},
          "execution_count": 30
        }
      ]
    },
    {
      "cell_type": "code",
      "metadata": {
        "id": "IF4eWk5cAS8v"
      },
      "source": [
        ""
      ],
      "execution_count": null,
      "outputs": []
    }
  ]
}